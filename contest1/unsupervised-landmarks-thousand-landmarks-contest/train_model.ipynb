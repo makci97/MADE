{
 "cells": [
  {
   "cell_type": "code",
   "execution_count": 1,
   "metadata": {},
   "outputs": [],
   "source": [
    "%load_ext autotime\n",
    "%load_ext autoreload\n",
    "%autoreload 2"
   ]
  },
  {
   "cell_type": "code",
   "execution_count": 2,
   "metadata": {},
   "outputs": [
    {
     "name": "stdout",
     "output_type": "stream",
     "text": [
      "time: 1.06 s\n"
     ]
    }
   ],
   "source": [
    "import os\n",
    "import cv2\n",
    "import sys\n",
    "import time\n",
    "import pickle\n",
    "import random\n",
    "import numpy as np\n",
    "import pandas as pd\n",
    "import matplotlib.pyplot as plt\n",
    "\n",
    "from PIL import Image\n",
    "from tqdm.notebook import tqdm\n",
    "from argparse import ArgumentParser\n",
    "\n",
    "import torch\n",
    "import torch.nn as nn\n",
    "import torch.optim as optim\n",
    "import torchvision.models as models\n",
    "import torchvision.transforms.functional as F\n",
    "\n",
    "from torch.utils import data\n",
    "from torch.utils.tensorboard import SummaryWriter\n",
    "from torch.nn import functional as fnn\n",
    "from torchvision import transforms\n",
    "\n",
    "root_path = './'\n",
    "sys.path.append(root_path)\n",
    "\n",
    "from hack_utils import Timer\n",
    "from hack_utils import NUM_PTS\n",
    "from hack_utils import ThousandLandmarksDataset, DebugThousandLandmarksDataset\n",
    "from hack_utils import restore_landmarks_batch, create_submission\n",
    "from hack_utils import ScaleMinSideToSize, CropCenter, TransformByKeys\n",
    "\n",
    "torch.backends.cudnn.deterministic = True\n",
    "torch.backends.cudnn.benchmark = False"
   ]
  },
  {
   "cell_type": "markdown",
   "metadata": {},
   "source": [
    "# Реализуем вспомогательные функции"
   ]
  },
  {
   "cell_type": "markdown",
   "metadata": {},
   "source": [
    "Обучение модели"
   ]
  },
  {
   "cell_type": "code",
   "execution_count": 3,
   "metadata": {},
   "outputs": [
    {
     "name": "stdout",
     "output_type": "stream",
     "text": [
      "time: 23.7 ms\n"
     ]
    }
   ],
   "source": [
    "def train(model, loader, loss_fn, optimizer, device, epoch, writer, scheduler):\n",
    "    model.train()\n",
    "    train_loss = []\n",
    "    loader_len = len(loader)\n",
    "    for i, batch in tqdm(enumerate(loader), total=loader_len, desc=\"training...\"):\n",
    "        images = batch[\"image\"].to(device)  # B x 3 x CROP_SIZE x CROP_SIZE\n",
    "        landmarks = batch[\"landmarks\"]  # B x (2 * NUM_PTS)\n",
    "\n",
    "        pred_landmarks = model(images).cpu()  # B x (2 * NUM_PTS)\n",
    "        loss = loss_fn(pred_landmarks, landmarks, reduction=\"mean\")\n",
    "        train_loss.append(loss.item())\n",
    "        writer.add_scalar('train__batch_loss', train_loss[-1], epoch*loader_len + i)\n",
    "        \n",
    "        scheduler.step(train_loss[-1])\n",
    "        writer.add_scalar('lr_batch', optimizer.lr, epoch*loader_len + i)\n",
    "\n",
    "        optimizer.zero_grad()\n",
    "        loss.backward()\n",
    "        optimizer.step()\n",
    "\n",
    "    return np.mean(train_loss)"
   ]
  },
  {
   "cell_type": "markdown",
   "metadata": {},
   "source": [
    "Валидация модели"
   ]
  },
  {
   "cell_type": "code",
   "execution_count": 4,
   "metadata": {},
   "outputs": [
    {
     "name": "stdout",
     "output_type": "stream",
     "text": [
      "time: 27.9 ms\n"
     ]
    }
   ],
   "source": [
    "def validate(model, loader, loss_fn, device):\n",
    "    model.eval()\n",
    "    val_loss = []\n",
    "    for batch in tqdm(loader, total=len(loader), desc=\"validation...\"):\n",
    "        images = batch[\"image\"].to(device)\n",
    "        landmarks = batch[\"landmarks\"]\n",
    "\n",
    "        with torch.no_grad():\n",
    "            pred_landmarks = model(images).cpu()\n",
    "        loss = loss_fn(pred_landmarks, landmarks, reduction=\"mean\")\n",
    "        val_loss.append(loss.item())\n",
    "        \n",
    "    figure_pred(dataset=test_dataset, landmarks=test_predictions)\n",
    "\n",
    "    return np.mean(val_loss)"
   ]
  },
  {
   "cell_type": "markdown",
   "metadata": {},
   "source": [
    "Предсказание моделью"
   ]
  },
  {
   "cell_type": "code",
   "execution_count": 5,
   "metadata": {},
   "outputs": [
    {
     "name": "stdout",
     "output_type": "stream",
     "text": [
      "time: 27.2 ms\n"
     ]
    }
   ],
   "source": [
    "def predict(model, loader, device):\n",
    "    model.eval()\n",
    "    predictions = np.zeros((len(loader.dataset), NUM_PTS, 2))\n",
    "    for i, batch in enumerate(tqdm(loader, total=len(loader), desc=\"test prediction...\")):\n",
    "        images = batch[\"image\"].to(device)\n",
    "\n",
    "        with torch.no_grad():\n",
    "            pred_landmarks = model(images).cpu()\n",
    "        pred_landmarks = pred_landmarks.numpy().reshape((len(pred_landmarks), NUM_PTS, 2))  # B x NUM_PTS x 2\n",
    "\n",
    "        fs = batch[\"scale_coef\"].numpy()  # B\n",
    "        margins_x = batch[\"crop_margin_x\"].numpy()  # B\n",
    "        margins_y = batch[\"crop_margin_y\"].numpy()  # B\n",
    "        prediction = restore_landmarks_batch(pred_landmarks, fs, margins_x, margins_y)  # B x NUM_PTS x 2\n",
    "        predictions[i * loader.batch_size: (i + 1) * loader.batch_size] = prediction\n",
    "\n",
    "    return predictions"
   ]
  },
  {
   "cell_type": "markdown",
   "metadata": {},
   "source": [
    "Создание названия эксперимента"
   ]
  },
  {
   "cell_type": "code",
   "execution_count": 6,
   "metadata": {},
   "outputs": [
    {
     "name": "stdout",
     "output_type": "stream",
     "text": [
      "time: 26.3 ms\n"
     ]
    }
   ],
   "source": [
    "def get_exp_name(train_params: dict, name: str = None) -> str:\n",
    "    cur_time = time.strftime(\"%b_%d_%Y_%H:%M:%S\", time.localtime())\n",
    "    exp_name = f\"{cur_time}__\"\n",
    "    if name is not None:\n",
    "        exp_name += f\"{name}_\"\n",
    "    exp_name += f\"model={train_params['base_model']}_bs={train_params['batch_size']}_\"\\\n",
    "        f\"epochs={train_params['epochs']}_lr={train_params['lr']}_\"\\\n",
    "        f\"lr_decay={train_params['lr_decay']}_w_decay={train_params['weight_decay']}\"\n",
    "    return exp_name"
   ]
  },
  {
   "cell_type": "markdown",
   "metadata": {},
   "source": [
    "Отрисовка предсказаний"
   ]
  },
  {
   "cell_type": "code",
   "execution_count": 7,
   "metadata": {},
   "outputs": [
    {
     "name": "stdout",
     "output_type": "stream",
     "text": [
      "time: 29.4 ms\n"
     ]
    }
   ],
   "source": [
    "mean = torch.tensor([0.485, 0.456, 0.406]).reshape(3, 1, 1)\n",
    "std = torch.tensor([0.229, 0.224, 0.225]).reshape(3, 1, 1)\n",
    "\n",
    "\n",
    "def tensor_image2numpy(image: torch.Tensor) -> np.ndarray:\n",
    "    # revert normalization\n",
    "    image = (image * std) + mean\n",
    "    \n",
    "    return np.array(F.to_pil_image(image))\n",
    "\n",
    "\n",
    "def draw_landmarks(image: np.ndarray, landmarks: np.ndarray) -> np.ndarray:\n",
    "    for point in landmarks:\n",
    "        x, y = point.astype(np.int)\n",
    "        cv2.circle(image, (x, y), 1, (128, 0, 128), 1, -1)\n",
    "\n",
    "    return image\n",
    "\n",
    "\n",
    "def figure_landmark_examples(images: torch.Tensor, landmarks: torch.Tensor):\n",
    "    n_images = images.shape[0]\n",
    "    n_cols = 4\n",
    "    n_rows = n_images // n_cols + int(n_images % n_cols != 0)\n",
    "\n",
    "    fig = plt.figure(figsize=(25, n_rows * 8))\n",
    "    for i, (image, landmark) in enumerate(zip(images, landmarks), 1):\n",
    "        image = tensor_image2numpy(image)\n",
    "        landmark = landmark.reshape(NUM_PTS, 2).numpy()\n",
    "        \n",
    "        image = draw_landmarks(image, landmark)\n",
    "\n",
    "        ax = fig.add_subplot(n_rows, n_cols, i)\n",
    "        ax.imshow(image)\n",
    "\n",
    "    return fig"
   ]
  },
  {
   "cell_type": "markdown",
   "metadata": {},
   "source": [
    "## Настроим аугментацию"
   ]
  },
  {
   "cell_type": "code",
   "execution_count": 41,
   "metadata": {},
   "outputs": [
    {
     "name": "stdout",
     "output_type": "stream",
     "text": [
      "time: 25.7 ms\n"
     ]
    }
   ],
   "source": [
    "from augmentation import AffineAugmenter, CropAugmenter, BrightnessContrastAugmenter, BlurAugmenter, Augmenter\n",
    "from augmentation import get_i_from_dict, batch2samples, RandomAugmentation"
   ]
  },
  {
   "cell_type": "code",
   "execution_count": 47,
   "metadata": {
    "scrolled": false
   },
   "outputs": [
    {
     "name": "stderr",
     "output_type": "stream",
     "text": [
      "64it [00:00, 406.65it/s]\n"
     ]
    },
    {
     "data": {
      "image/png": "[encoded data removed]",
      "text/plain": [
       "<Figure size 432x288 with 1 Axes>"
      ]
     },
     "metadata": {
      "needs_background": "light"
     },
     "output_type": "display_data"
    },
    {
     "data": {
      "image/png": "[encoded data removed]",
      "text/plain": [
       "<Figure size 432x288 with 1 Axes>"
      ]
     },
     "metadata": {
      "needs_background": "light"
     },
     "output_type": "display_data"
    },
    {
     "name": "stdout",
     "output_type": "stream",
     "text": [
      "time: 709 ms\n"
     ]
    }
   ],
   "source": [
    "CROP_SIZE=224\n",
    "with_inv=True\n",
    "\n",
    "augmenter = RandomAugmentation(\n",
    "    augmenters_list=[\n",
    "        Augmenter(with_inv=with_inv),\n",
    "        BrightnessContrastAugmenter(brightness=0.2, contrast=0.2, with_inv=with_inv),\n",
    "        BlurAugmenter(max_kernel=5, with_inv=with_inv),\n",
    "        CropAugmenter(min_scale=0.8, with_inv=with_inv),\n",
    "        AffineAugmenter(min_scale=0.9, max_scale=1.1, max_offset=0.1, rotate=True, with_inv=with_inv),\n",
    "    ],\n",
    "    probs=[0.3, 0.2, 0.2, 0.15, 0.15],\n",
    "#     probs=[0.5, 0.5],\n",
    "    with_inv=with_inv,\n",
    ")\n",
    "# augmenter = AffineAugmenter(min_scale=0.9, max_scale=1.1, max_offset=0.1, rotate=True, with_inv=with_inv)\n",
    "\n",
    "debug_transforms = transforms.Compose([\n",
    "    ScaleMinSideToSize((CROP_SIZE, CROP_SIZE)),\n",
    "    CropCenter(CROP_SIZE),\n",
    "    \n",
    "    augmenter,\n",
    "    \n",
    "    TransformByKeys(transforms.ToPILImage(), (\"image\",)),\n",
    "    TransformByKeys(transforms.ToTensor(), (\"image\",)),\n",
    "    TransformByKeys(transforms.Normalize(\n",
    "        mean=[0.485, 0.456, 0.406], \n",
    "        std=[0.229, 0.224, 0.225],\n",
    "    ), (\"image\",)), \n",
    "])\n",
    "\n",
    "debug_dataset = DebugThousandLandmarksDataset(os.path.join(data_dir, 'train'), debug_transforms)\n",
    "debug_dataloader = data.DataLoader(\n",
    "    debug_dataset, batch_size=10, num_workers=0, #num_workers=4, \n",
    "    pin_memory=True, shuffle=False, drop_last=False,\n",
    ")\n",
    "\n",
    "batch = next(iter(debug_dataloader))\n",
    "images = batch[\"image\"]#.to(device)  # B x 3 x CROP_SIZE x CROP_SIZE\n",
    "landmarks = batch[\"landmarks\"]\n",
    "\n",
    "\n",
    "i = 1#9 #np.random.choice(images.shape[0])\n",
    "# image = images[i].numpy()\n",
    "image = tensor_image2numpy(images[i])\n",
    "landmark = landmarks[i].reshape(NUM_PTS, 2).numpy()\n",
    "fig = draw_landmarks(image, landmark)\n",
    "\n",
    "plt.imshow(fig)\n",
    "plt.show()\n",
    "\n",
    "sample = get_i_from_dict(i, batch)\n",
    "sample['image'] = tensor_image2numpy(sample['image'])\n",
    "# inv_sample = AffineAugmenter().inv(sample)\n",
    "# inv_sample = CropAugmenter().inv(sample)\n",
    "# inv_sample = BrightnessContrastAugmenter().inv(sample)\n",
    "# inv_sample = BlurAugmenter().inv(sample)\n",
    "inv_sample = augmenter.inv(sample)\n",
    "\n",
    "\n",
    "image = inv_sample['image']\n",
    "landmark = inv_sample['landmarks'].reshape(NUM_PTS, 2).numpy()\n",
    "fig = draw_landmarks(image, landmark)\n",
    "\n",
    "plt.imshow(fig)\n",
    "plt.show()"
   ]
  },
  {
   "cell_type": "code",
   "execution_count": 23,
   "metadata": {},
   "outputs": [
    {
     "data": {
      "text/plain": [
       "tensor([102.5724, 193.2121, 100.3098,  ...,  86.8687, 144.0539,  93.6566],\n",
       "       dtype=torch.float64)"
      ]
     },
     "execution_count": 23,
     "metadata": {},
     "output_type": "execute_result"
    },
    {
     "name": "stdout",
     "output_type": "stream",
     "text": [
      "time: 27.6 ms\n"
     ]
    }
   ],
   "source": [
    "t = sample['landmarks']\n",
    "t"
   ]
  },
  {
   "cell_type": "code",
   "execution_count": 21,
   "metadata": {},
   "outputs": [
    {
     "data": {
      "text/plain": [
       "torch.float32"
      ]
     },
     "execution_count": 21,
     "metadata": {},
     "output_type": "execute_result"
    },
    {
     "name": "stdout",
     "output_type": "stream",
     "text": [
      "time: 27 ms\n"
     ]
    }
   ],
   "source": [
    "t.dtype"
   ]
  },
  {
   "cell_type": "code",
   "execution_count": 17,
   "metadata": {},
   "outputs": [
    {
     "data": {
      "text/plain": [
       "<function Tensor.type>"
      ]
     },
     "execution_count": 17,
     "metadata": {},
     "output_type": "execute_result"
    },
    {
     "name": "stdout",
     "output_type": "stream",
     "text": [
      "time: 27.7 ms\n"
     ]
    }
   ],
   "source": [
    "t.type"
   ]
  },
  {
   "cell_type": "code",
   "execution_count": null,
   "metadata": {},
   "outputs": [],
   "source": []
  },
  {
   "cell_type": "code",
   "execution_count": 543,
   "metadata": {},
   "outputs": [
    {
     "name": "stdout",
     "output_type": "stream",
     "text": [
      "angle <class 'float'>\n",
      "scale <class 'float'>\n",
      "x_center <class 'int'>\n",
      "y_center <class 'int'>\n",
      "x_offset <class 'int'>\n",
      "y_offset <class 'int'>\n",
      "time: 27.8 ms\n"
     ]
    }
   ],
   "source": [
    "for k, v in augmenter.params_example.items():\n",
    "    print(k, type(v))"
   ]
  },
  {
   "cell_type": "code",
   "execution_count": 544,
   "metadata": {},
   "outputs": [
    {
     "name": "stdout",
     "output_type": "stream",
     "text": [
      "angle <class 'torch.Tensor'> tensor(0., dtype=torch.float64)\n",
      "scale <class 'torch.Tensor'> tensor(0.8970, dtype=torch.float64)\n",
      "x_center <class 'torch.Tensor'> tensor(0)\n",
      "y_center <class 'torch.Tensor'> tensor(0)\n",
      "x_offset <class 'torch.Tensor'> tensor(4)\n",
      "y_offset <class 'torch.Tensor'> tensor(22)\n",
      "new_w <class 'torch.Tensor'> tensor(200)\n",
      "new_h <class 'torch.Tensor'> tensor(200)\n",
      "brightness <class 'torch.Tensor'> tensor(0., dtype=torch.float64)\n",
      "contrast <class 'torch.Tensor'> tensor(0., dtype=torch.float64)\n",
      "kernel <class 'torch.Tensor'> tensor(0)\n",
      "time: 31.4 ms\n"
     ]
    }
   ],
   "source": [
    "for k, v in sample['params'].items():\n",
    "    print(k, type(v), v)"
   ]
  },
  {
   "cell_type": "code",
   "execution_count": null,
   "metadata": {},
   "outputs": [],
   "source": []
  },
  {
   "cell_type": "code",
   "execution_count": null,
   "metadata": {},
   "outputs": [],
   "source": []
  },
  {
   "cell_type": "code",
   "execution_count": 477,
   "metadata": {},
   "outputs": [
    {
     "data": {
      "text/plain": [
       "{'landmarks': tensor([ 96.0010, 194.2178,  93.5760,  ...,  80.2420, 140.4596,  87.5171]),\n",
       " 'image': array([[[0, 0, 0],\n",
       "         [0, 0, 0],\n",
       "         [0, 0, 0],\n",
       "         ...,\n",
       "         [0, 0, 0],\n",
       "         [0, 0, 0],\n",
       "         [0, 0, 0]],\n",
       " \n",
       "        [[0, 0, 0],\n",
       "         [0, 0, 0],\n",
       "         [0, 0, 0],\n",
       "         ...,\n",
       "         [0, 0, 0],\n",
       "         [0, 0, 0],\n",
       "         [0, 0, 0]],\n",
       " \n",
       "        [[0, 0, 0],\n",
       "         [0, 0, 0],\n",
       "         [0, 0, 0],\n",
       "         ...,\n",
       "         [0, 0, 0],\n",
       "         [0, 0, 0],\n",
       "         [0, 0, 0]],\n",
       " \n",
       "        ...,\n",
       " \n",
       "        [[0, 0, 0],\n",
       "         [0, 0, 0],\n",
       "         [0, 0, 0],\n",
       "         ...,\n",
       "         [0, 0, 0],\n",
       "         [0, 0, 0],\n",
       "         [0, 0, 0]],\n",
       " \n",
       "        [[0, 0, 0],\n",
       "         [0, 0, 0],\n",
       "         [0, 0, 0],\n",
       "         ...,\n",
       "         [0, 0, 0],\n",
       "         [0, 0, 0],\n",
       "         [0, 0, 0]],\n",
       " \n",
       "        [[0, 0, 0],\n",
       "         [0, 0, 0],\n",
       "         [0, 0, 0],\n",
       "         ...,\n",
       "         [0, 0, 0],\n",
       "         [0, 0, 0],\n",
       "         [0, 0, 0]]], dtype=uint8),\n",
       " 'scale_coef': tensor(0.7542),\n",
       " 'crop_margin_x': tensor(0),\n",
       " 'crop_margin_y': tensor(24),\n",
       " 'params': {'brightness': tensor(0., dtype=torch.float64),\n",
       "  'contrast': tensor(0., dtype=torch.float64),\n",
       "  'kernel': tensor(0),\n",
       "  'scale': tensor(0.9343, dtype=torch.float64),\n",
       "  'new_w': tensor(209.),\n",
       "  'new_h': tensor(209.),\n",
       "  'x_offset': tensor(13.),\n",
       "  'y_offset': tensor(12.),\n",
       "  'angle': tensor(0., dtype=torch.float64),\n",
       "  'x_center': tensor(0., dtype=torch.float64),\n",
       "  'y_center': tensor(0., dtype=torch.float64)},\n",
       " 'augmenter': 'crop'}"
      ]
     },
     "execution_count": 477,
     "metadata": {},
     "output_type": "execute_result"
    },
    {
     "name": "stdout",
     "output_type": "stream",
     "text": [
      "time: 31.9 ms\n"
     ]
    }
   ],
   "source": [
    "sample"
   ]
  },
  {
   "cell_type": "code",
   "execution_count": null,
   "metadata": {},
   "outputs": [],
   "source": []
  },
  {
   "cell_type": "code",
   "execution_count": 256,
   "metadata": {},
   "outputs": [
    {
     "name": "stdout",
     "output_type": "stream",
     "text": [
      "time: 27.6 ms\n"
     ]
    }
   ],
   "source": []
  },
  {
   "cell_type": "code",
   "execution_count": 257,
   "metadata": {},
   "outputs": [
    {
     "name": "stdout",
     "output_type": "stream",
     "text": [
      "{'landmarks': tensor([105.4216, 188.5180, 103.1896,  ...,  68.3225, 156.2376,  86.4851],\n",
      "       dtype=torch.float64), 'image': tensor([[[128, 128, 128],\n",
      "         [128, 128, 128],\n",
      "         [128, 128, 128],\n",
      "         ...,\n",
      "         [128, 128, 128],\n",
      "         [128, 128, 128],\n",
      "         [128, 128, 128]],\n",
      "\n",
      "        [[128, 128, 128],\n",
      "         [128, 128, 128],\n",
      "         [128, 128, 128],\n",
      "         ...,\n",
      "         [128, 128, 128],\n",
      "         [128, 128, 128],\n",
      "         [128, 128, 128]],\n",
      "\n",
      "        [[128, 128, 128],\n",
      "         [128, 128, 128],\n",
      "         [128, 128, 128],\n",
      "         ...,\n",
      "         [128, 128, 128],\n",
      "         [128, 128, 128],\n",
      "         [128, 128, 128]],\n",
      "\n",
      "        ...,\n",
      "\n",
      "        [[128, 128, 128],\n",
      "         [128, 128, 128],\n",
      "         [128, 128, 128],\n",
      "         ...,\n",
      "         [128, 128, 128],\n",
      "         [128, 128, 128],\n",
      "         [128, 128, 128]],\n",
      "\n",
      "        [[128, 128, 128],\n",
      "         [128, 128, 128],\n",
      "         [128, 128, 128],\n",
      "         ...,\n",
      "         [128, 128, 128],\n",
      "         [128, 128, 128],\n",
      "         [128, 128, 128]],\n",
      "\n",
      "        [[128, 128, 128],\n",
      "         [128, 128, 128],\n",
      "         [128, 128, 128],\n",
      "         ...,\n",
      "         [128, 128, 128],\n",
      "         [128, 128, 128],\n",
      "         [128, 128, 128]]], dtype=torch.uint8), 'scale_coef': tensor(0.8087), 'crop_margin_x': tensor(0), 'crop_margin_y': tensor(43), 'affine_params': {'angle': tensor(-15.1650, dtype=torch.float64), 'scale': tensor(0.9532, dtype=torch.float64), 'x_center': tensor(112), 'y_center': tensor(112), 'x_offset': tensor(0), 'y_offset': tensor(-17)}}\n",
      "{'landmarks': tensor([144.0454, 198.1362, 141.8686,  ..., 107.0386, 131.0993,  80.3351],\n",
      "       dtype=torch.float64), 'image': tensor([[[128, 128, 128],\n",
      "         [128, 128, 128],\n",
      "         [128, 128, 128],\n",
      "         ...,\n",
      "         [128, 128, 128],\n",
      "         [128, 128, 128],\n",
      "         [128, 128, 128]],\n",
      "\n",
      "        [[128, 128, 128],\n",
      "         [128, 128, 128],\n",
      "         [128, 128, 128],\n",
      "         ...,\n",
      "         [128, 128, 128],\n",
      "         [128, 128, 128],\n",
      "         [128, 128, 128]],\n",
      "\n",
      "        [[128, 128, 128],\n",
      "         [128, 128, 128],\n",
      "         [128, 128, 128],\n",
      "         ...,\n",
      "         [128, 128, 128],\n",
      "         [128, 128, 128],\n",
      "         [128, 128, 128]],\n",
      "\n",
      "        ...,\n",
      "\n",
      "        [[128, 128, 128],\n",
      "         [128, 128, 128],\n",
      "         [128, 128, 128],\n",
      "         ...,\n",
      "         [128, 128, 128],\n",
      "         [128, 128, 128],\n",
      "         [128, 128, 128]],\n",
      "\n",
      "        [[128, 128, 128],\n",
      "         [128, 128, 128],\n",
      "         [128, 128, 128],\n",
      "         ...,\n",
      "         [128, 128, 128],\n",
      "         [128, 128, 128],\n",
      "         [128, 128, 128]],\n",
      "\n",
      "        [[128, 128, 128],\n",
      "         [128, 128, 128],\n",
      "         [128, 128, 128],\n",
      "         ...,\n",
      "         [128, 128, 128],\n",
      "         [128, 128, 128],\n",
      "         [128, 128, 128]]], dtype=torch.uint8), 'scale_coef': tensor(0.7542), 'crop_margin_x': tensor(0), 'crop_margin_y': tensor(24), 'affine_params': {'angle': tensor(28.8914, dtype=torch.float64), 'scale': tensor(1.0988, dtype=torch.float64), 'x_center': tensor(112), 'y_center': tensor(112), 'x_offset': tensor(-2), 'y_offset': tensor(3)}}\n",
      "{'landmarks': tensor([179.2040, 175.3385, 177.1458,  ...,  69.0083, 177.9872,  70.1959],\n",
      "       dtype=torch.float64), 'image': tensor([[[128, 128, 128],\n",
      "         [128, 128, 128],\n",
      "         [128, 128, 128],\n",
      "         ...,\n",
      "         [128, 128, 128],\n",
      "         [128, 128, 128],\n",
      "         [128, 128, 128]],\n",
      "\n",
      "        [[128, 128, 128],\n",
      "         [128, 128, 128],\n",
      "         [128, 128, 128],\n",
      "         ...,\n",
      "         [128, 128, 128],\n",
      "         [128, 128, 128],\n",
      "         [128, 128, 128]],\n",
      "\n",
      "        [[128, 128, 128],\n",
      "         [128, 128, 128],\n",
      "         [128, 128, 128],\n",
      "         ...,\n",
      "         [128, 128, 128],\n",
      "         [128, 128, 128],\n",
      "         [128, 128, 128]],\n",
      "\n",
      "        ...,\n",
      "\n",
      "        [[128, 128, 128],\n",
      "         [128, 128, 128],\n",
      "         [128, 128, 128],\n",
      "         ...,\n",
      "         [128, 128, 128],\n",
      "         [128, 128, 128],\n",
      "         [128, 128, 128]],\n",
      "\n",
      "        [[128, 128, 128],\n",
      "         [128, 128, 128],\n",
      "         [128, 128, 128],\n",
      "         ...,\n",
      "         [128, 128, 128],\n",
      "         [128, 128, 128],\n",
      "         [128, 128, 128]],\n",
      "\n",
      "        [[128, 128, 128],\n",
      "         [128, 128, 128],\n",
      "         [128, 128, 128],\n",
      "         ...,\n",
      "         [128, 128, 128],\n",
      "         [128, 128, 128],\n",
      "         [128, 128, 128]]], dtype=torch.uint8), 'scale_coef': tensor(1.1789), 'crop_margin_x': tensor(0), 'crop_margin_y': tensor(41), 'affine_params': {'angle': tensor(18.7235, dtype=torch.float64), 'scale': tensor(0.9217, dtype=torch.float64), 'x_center': tensor(112), 'y_center': tensor(112), 'x_offset': tensor(20), 'y_offset': tensor(-15)}}\n",
      "{'landmarks': tensor([ 91.4321, 179.2903,  89.6230,  ...,  89.9985, 165.5039, 102.4068],\n",
      "       dtype=torch.float64), 'image': tensor([[[  0,   0,   0],\n",
      "         [  0,   0,   0],\n",
      "         [  0,   0,   0],\n",
      "         ...,\n",
      "         [ 94,  98,  93],\n",
      "         [109, 111, 109],\n",
      "         [128, 128, 128]],\n",
      "\n",
      "        [[  0,   0,   0],\n",
      "         [  0,   0,   0],\n",
      "         [  0,   0,   0],\n",
      "         ...,\n",
      "         [  7,  20,   3],\n",
      "         [  5,  19,   4],\n",
      "         [  6,  20,   6]],\n",
      "\n",
      "        [[  0,   0,   0],\n",
      "         [  0,   0,   0],\n",
      "         [  0,   0,   0],\n",
      "         ...,\n",
      "         [  6,  19,   3],\n",
      "         [  4,  18,   3],\n",
      "         [  4,  18,   5]],\n",
      "\n",
      "        ...,\n",
      "\n",
      "        [[128, 128, 128],\n",
      "         [128, 128, 128],\n",
      "         [128, 128, 128],\n",
      "         ...,\n",
      "         [128, 128, 128],\n",
      "         [128, 128, 128],\n",
      "         [128, 128, 128]],\n",
      "\n",
      "        [[128, 128, 128],\n",
      "         [128, 128, 128],\n",
      "         [128, 128, 128],\n",
      "         ...,\n",
      "         [128, 128, 128],\n",
      "         [128, 128, 128],\n",
      "         [128, 128, 128]],\n",
      "\n",
      "        [[128, 128, 128],\n",
      "         [128, 128, 128],\n",
      "         [128, 128, 128],\n",
      "         ...,\n",
      "         [128, 128, 128],\n",
      "         [128, 128, 128],\n",
      "         [128, 128, 128]]], dtype=torch.uint8), 'scale_coef': tensor(0.9782), 'crop_margin_x': tensor(0), 'crop_margin_y': tensor(38), 'affine_params': {'angle': tensor(-8.3337, dtype=torch.float64), 'scale': tensor(1.0085, dtype=torch.float64), 'x_center': tensor(112), 'y_center': tensor(112), 'x_offset': tensor(-13), 'y_offset': tensor(-15)}}\n",
      "{'landmarks': tensor([ 19.8674, 133.7511,  19.8593,  ...,  57.2363, 132.9174,  86.3690],\n",
      "       dtype=torch.float64), 'image': tensor([[[128, 128, 128],\n",
      "         [128, 128, 128],\n",
      "         [128, 128, 128],\n",
      "         ...,\n",
      "         [128, 128, 128],\n",
      "         [128, 128, 128],\n",
      "         [128, 128, 128]],\n",
      "\n",
      "        [[128, 128, 128],\n",
      "         [128, 128, 128],\n",
      "         [128, 128, 128],\n",
      "         ...,\n",
      "         [128, 128, 128],\n",
      "         [128, 128, 128],\n",
      "         [128, 128, 128]],\n",
      "\n",
      "        [[128, 128, 128],\n",
      "         [128, 128, 128],\n",
      "         [128, 128, 128],\n",
      "         ...,\n",
      "         [128, 128, 128],\n",
      "         [128, 128, 128],\n",
      "         [128, 128, 128]],\n",
      "\n",
      "        ...,\n",
      "\n",
      "        [[128, 128, 128],\n",
      "         [128, 128, 128],\n",
      "         [128, 128, 128],\n",
      "         ...,\n",
      "         [128, 128, 128],\n",
      "         [128, 128, 128],\n",
      "         [128, 128, 128]],\n",
      "\n",
      "        [[128, 128, 128],\n",
      "         [128, 128, 128],\n",
      "         [128, 128, 128],\n",
      "         ...,\n",
      "         [128, 128, 128],\n",
      "         [128, 128, 128],\n",
      "         [128, 128, 128]],\n",
      "\n",
      "        [[128, 128, 128],\n",
      "         [128, 128, 128],\n",
      "         [128, 128, 128],\n",
      "         ...,\n",
      "         [128, 128, 128],\n",
      "         [128, 128, 128],\n",
      "         [128, 128, 128]]], dtype=torch.uint8), 'scale_coef': tensor(0.6188), 'crop_margin_x': tensor(0), 'crop_margin_y': tensor(33), 'affine_params': {'angle': tensor(-44.5002, dtype=torch.float64), 'scale': tensor(1.0498, dtype=torch.float64), 'x_center': tensor(112), 'y_center': tensor(112), 'x_offset': tensor(15), 'y_offset': tensor(-2)}}\n",
      "{'landmarks': tensor([113.8098, 188.4529, 110.9238,  ...,  68.2510, 142.5280,  67.2081],\n",
      "       dtype=torch.float64), 'image': tensor([[[102, 117,  84],\n",
      "         [ 93, 105,  72],\n",
      "         [ 69,  82,  48],\n",
      "         ...,\n",
      "         [ 55, 113,  74],\n",
      "         [ 48,  91,  62],\n",
      "         [ 24,  45,  30]],\n",
      "\n",
      "        [[ 76,  96,  62],\n",
      "         [ 77,  94,  61],\n",
      "         [ 65,  84,  49],\n",
      "         ...,\n",
      "         [ 56, 115,  75],\n",
      "         [ 49,  92,  63],\n",
      "         [ 25,  45,  31]],\n",
      "\n",
      "        [[ 43,  68,  34],\n",
      "         [ 58,  80,  47],\n",
      "         [ 63,  85,  50],\n",
      "         ...,\n",
      "         [ 57, 115,  75],\n",
      "         [ 50,  92,  64],\n",
      "         [ 25,  45,  31]],\n",
      "\n",
      "        ...,\n",
      "\n",
      "        [[128, 128, 128],\n",
      "         [128, 128, 128],\n",
      "         [128, 128, 128],\n",
      "         ...,\n",
      "         [128, 128, 128],\n",
      "         [128, 128, 128],\n",
      "         [128, 128, 128]],\n",
      "\n",
      "        [[128, 128, 128],\n",
      "         [128, 128, 128],\n",
      "         [128, 128, 128],\n",
      "         ...,\n",
      "         [128, 128, 128],\n",
      "         [128, 128, 128],\n",
      "         [128, 128, 128]],\n",
      "\n",
      "        [[128, 128, 128],\n",
      "         [128, 128, 128],\n",
      "         [128, 128, 128],\n",
      "         ...,\n",
      "         [128, 128, 128],\n",
      "         [128, 128, 128],\n",
      "         [128, 128, 128]]], dtype=torch.uint8), 'scale_coef': tensor(0.8819), 'crop_margin_x': tensor(0), 'crop_margin_y': tensor(35), 'affine_params': {'angle': tensor(0.0669, dtype=torch.float64), 'scale': tensor(1.0908, dtype=torch.float64), 'x_center': tensor(112), 'y_center': tensor(112), 'x_offset': tensor(-6), 'y_offset': tensor(-21)}}\n",
      "{'landmarks': tensor([109.8963, 188.2798, 108.4020,  ...,  90.6398, 145.0139,  92.4632],\n",
      "       dtype=torch.float64), 'image': tensor([[[128, 128, 128],\n",
      "         [128, 128, 128],\n",
      "         [128, 128, 128],\n",
      "         ...,\n",
      "         [128, 128, 128],\n",
      "         [128, 128, 128],\n",
      "         [128, 128, 128]],\n",
      "\n",
      "        [[128, 128, 128],\n",
      "         [128, 128, 128],\n",
      "         [128, 128, 128],\n",
      "         ...,\n",
      "         [128, 128, 128],\n",
      "         [128, 128, 128],\n",
      "         [128, 128, 128]],\n",
      "\n",
      "        [[128, 128, 128],\n",
      "         [128, 128, 128],\n",
      "         [128, 128, 128],\n",
      "         ...,\n",
      "         [128, 128, 128],\n",
      "         [128, 128, 128],\n",
      "         [128, 128, 128]],\n",
      "\n",
      "        ...,\n",
      "\n",
      "        [[128, 128, 128],\n",
      "         [128, 128, 128],\n",
      "         [128, 128, 128],\n",
      "         ...,\n",
      "         [128, 128, 128],\n",
      "         [128, 128, 128],\n",
      "         [128, 128, 128]],\n",
      "\n",
      "        [[128, 128, 128],\n",
      "         [128, 128, 128],\n",
      "         [128, 128, 128],\n",
      "         ...,\n",
      "         [128, 128, 128],\n",
      "         [128, 128, 128],\n",
      "         [128, 128, 128]],\n",
      "\n",
      "        [[128, 128, 128],\n",
      "         [128, 128, 128],\n",
      "         [128, 128, 128],\n",
      "         ...,\n",
      "         [128, 128, 128],\n",
      "         [128, 128, 128],\n",
      "         [128, 128, 128]]], dtype=torch.uint8), 'scale_coef': tensor(1.6970), 'crop_margin_x': tensor(0), 'crop_margin_y': tensor(32), 'affine_params': {'angle': tensor(-13.2171, dtype=torch.float64), 'scale': tensor(0.9045, dtype=torch.float64), 'x_center': tensor(112), 'y_center': tensor(112), 'x_offset': tensor(14), 'y_offset': tensor(1)}}\n",
      "{'landmarks': tensor([127.9894, 185.5403, 125.2326,  ...,  70.7871, 163.1818,  81.6635],\n",
      "       dtype=torch.float64), 'image': tensor([[[  0,   0,   1],\n",
      "         [  0,   0,   1],\n",
      "         [  0,   0,   0],\n",
      "         ...,\n",
      "         [ 17,  17,  11],\n",
      "         [  2,   2,   1],\n",
      "         [  1,   0,   0]],\n",
      "\n",
      "        [[  2,   0,   1],\n",
      "         [  1,   0,   1],\n",
      "         [  1,   0,   0],\n",
      "         ...,\n",
      "         [ 19,  18,  12],\n",
      "         [  3,   2,   1],\n",
      "         [  1,   0,   0]],\n",
      "\n",
      "        [[  2,   0,   1],\n",
      "         [  1,   0,   2],\n",
      "         [  1,   0,   0],\n",
      "         ...,\n",
      "         [ 19,  19,  14],\n",
      "         [  5,   4,   2],\n",
      "         [  1,   0,   0]],\n",
      "\n",
      "        ...,\n",
      "\n",
      "        [[128, 128, 128],\n",
      "         [128, 128, 128],\n",
      "         [ 68,  68,  69],\n",
      "         ...,\n",
      "         [128, 128, 128],\n",
      "         [128, 128, 128],\n",
      "         [128, 128, 128]],\n",
      "\n",
      "        [[128, 128, 128],\n",
      "         [128, 128, 128],\n",
      "         [ 72,  72,  72],\n",
      "         ...,\n",
      "         [128, 128, 128],\n",
      "         [128, 128, 128],\n",
      "         [128, 128, 128]],\n",
      "\n",
      "        [[128, 128, 128],\n",
      "         [128, 128, 128],\n",
      "         [110, 110, 110],\n",
      "         ...,\n",
      "         [128, 128, 128],\n",
      "         [128, 128, 128],\n",
      "         [128, 128, 128]]], dtype=torch.uint8), 'scale_coef': tensor(1.3099), 'crop_margin_x': tensor(0), 'crop_margin_y': tensor(29), 'affine_params': {'angle': tensor(2.6840, dtype=torch.float64), 'scale': tensor(1.0534, dtype=torch.float64), 'x_center': tensor(112), 'y_center': tensor(112), 'x_offset': tensor(3), 'y_offset': tensor(-12)}}\n",
      "{'landmarks': tensor([ 35.0384, 163.9460,  33.7888,  ...,  65.6131, 123.7933, 104.8268],\n",
      "       dtype=torch.float64), 'image': tensor([[[128, 128, 128],\n",
      "         [128, 128, 128],\n",
      "         [128, 128, 128],\n",
      "         ...,\n",
      "         [128, 128, 128],\n",
      "         [128, 128, 128],\n",
      "         [128, 128, 128]],\n",
      "\n",
      "        [[128, 128, 128],\n",
      "         [128, 128, 128],\n",
      "         [128, 128, 128],\n",
      "         ...,\n",
      "         [128, 128, 128],\n",
      "         [128, 128, 128],\n",
      "         [128, 128, 128]],\n",
      "\n",
      "        [[128, 128, 128],\n",
      "         [128, 128, 128],\n",
      "         [128, 128, 128],\n",
      "         ...,\n",
      "         [128, 128, 128],\n",
      "         [128, 128, 128],\n",
      "         [128, 128, 128]],\n",
      "\n",
      "        ...,\n",
      "\n",
      "        [[128, 128, 128],\n",
      "         [128, 128, 128],\n",
      "         [128, 128, 128],\n",
      "         ...,\n",
      "         [128, 128, 128],\n",
      "         [128, 128, 128],\n",
      "         [128, 128, 128]],\n",
      "\n",
      "        [[128, 128, 128],\n",
      "         [128, 128, 128],\n",
      "         [128, 128, 128],\n",
      "         ...,\n",
      "         [128, 128, 128],\n",
      "         [128, 128, 128],\n",
      "         [128, 128, 128]],\n",
      "\n",
      "        [[128, 128, 128],\n",
      "         [128, 128, 128],\n",
      "         [128, 128, 128],\n",
      "         ...,\n",
      "         [128, 128, 128],\n",
      "         [128, 128, 128],\n",
      "         [128, 128, 128]]], dtype=torch.uint8), 'scale_coef': tensor(1.7638), 'crop_margin_x': tensor(0), 'crop_margin_y': tensor(42), 'affine_params': {'angle': tensor(-39.5499, dtype=torch.float64), 'scale': tensor(0.9188, dtype=torch.float64), 'x_center': tensor(112), 'y_center': tensor(112), 'x_offset': tensor(-18), 'y_offset': tensor(-8)}}\n",
      "{'landmarks': tensor([141.4475, 222.3492, 138.9975,  ..., 104.4721, 156.0626,  93.6885],\n",
      "       dtype=torch.float64), 'image': tensor([[[128, 128, 128],\n",
      "         [128, 128, 128],\n",
      "         [128, 128, 128],\n",
      "         ...,\n",
      "         [152, 150, 125],\n",
      "         [ 35,  33,  27],\n",
      "         [  5,   4,   3]],\n",
      "\n",
      "        [[128, 128, 128],\n",
      "         [128, 128, 128],\n",
      "         [128, 128, 128],\n",
      "         ...,\n",
      "         [168, 163, 135],\n",
      "         [ 54,  51,  42],\n",
      "         [ 10,   8,   6]],\n",
      "\n",
      "        [[128, 128, 128],\n",
      "         [128, 128, 128],\n",
      "         [128, 128, 128],\n",
      "         ...,\n",
      "         [174, 166, 136],\n",
      "         [ 78,  72,  60],\n",
      "         [ 16,  12,  10]],\n",
      "\n",
      "        ...,\n",
      "\n",
      "        [[128, 128, 128],\n",
      "         [128, 128, 128],\n",
      "         [128, 128, 128],\n",
      "         ...,\n",
      "         [178, 129,  89],\n",
      "         [180, 132,  91],\n",
      "         [176, 127,  86]],\n",
      "\n",
      "        [[128, 128, 128],\n",
      "         [128, 128, 128],\n",
      "         [128, 128, 128],\n",
      "         ...,\n",
      "         [176, 128,  88],\n",
      "         [178, 129,  89],\n",
      "         [173, 124,  84]],\n",
      "\n",
      "        [[128, 128, 128],\n",
      "         [128, 128, 128],\n",
      "         [128, 128, 128],\n",
      "         ...,\n",
      "         [175, 126,  86],\n",
      "         [175, 125,  85],\n",
      "         [171, 121,  81]]], dtype=torch.uint8), 'scale_coef': tensor(1.1371), 'crop_margin_x': tensor(0), 'crop_margin_y': tensor(49), 'affine_params': {'angle': tensor(8.4860, dtype=torch.float64), 'scale': tensor(1.0893, dtype=torch.float64), 'x_center': tensor(112), 'y_center': tensor(112), 'x_offset': tensor(12), 'y_offset': tensor(6)}}\n",
      "time: 56.2 ms\n"
     ]
    }
   ],
   "source": [
    "for sample in batch2samples(batch, 10):\n",
    "    print(sample)"
   ]
  },
  {
   "cell_type": "code",
   "execution_count": null,
   "metadata": {},
   "outputs": [],
   "source": []
  },
  {
   "cell_type": "code",
   "execution_count": null,
   "metadata": {},
   "outputs": [],
   "source": []
  },
  {
   "cell_type": "code",
   "execution_count": null,
   "metadata": {},
   "outputs": [],
   "source": []
  },
  {
   "cell_type": "code",
   "execution_count": null,
   "metadata": {},
   "outputs": [],
   "source": []
  },
  {
   "cell_type": "code",
   "execution_count": null,
   "metadata": {},
   "outputs": [],
   "source": []
  },
  {
   "cell_type": "markdown",
   "metadata": {},
   "source": [
    "# Основная часть"
   ]
  },
  {
   "cell_type": "code",
   "execution_count": 10,
   "metadata": {},
   "outputs": [
    {
     "name": "stdout",
     "output_type": "stream",
     "text": [
      "time: 25.7 ms\n"
     ]
    }
   ],
   "source": [
    "data_dir = os.path.join(root_path, 'data')\n",
    "CROP_SIZE = 224  # размер изображений во время обучения сети - feature extractor'а на ImageNet\n",
    "train_params = {'batch_size': 512}"
   ]
  },
  {
   "cell_type": "markdown",
   "metadata": {},
   "source": [
    "### Подготовим данные для обучения"
   ]
  },
  {
   "cell_type": "markdown",
   "metadata": {},
   "source": [
    "Пайплайн препроцессинга изображений"
   ]
  },
  {
   "cell_type": "code",
   "execution_count": 9,
   "metadata": {},
   "outputs": [],
   "source": [
    "train_transforms = transforms.Compose([\n",
    "    ScaleMinSideToSize((CROP_SIZE, CROP_SIZE)),\n",
    "    CropCenter(CROP_SIZE),\n",
    "    \n",
    "    TransformByKeys(transforms.ToPILImage(), (\"image\",)),\n",
    "    TransformByKeys(transforms.ToTensor(), (\"image\",)),\n",
    "    TransformByKeys(transforms.Normalize(\n",
    "        mean=[0.485, 0.456, 0.406], \n",
    "        std=[0.229, 0.224, 0.225],\n",
    "    ), (\"image\",)),  # стандартные параметры нормализации для сетей, обученных на ImageNet\n",
    "])"
   ]
  },
  {
   "cell_type": "code",
   "execution_count": 11,
   "metadata": {},
   "outputs": [],
   "source": [
    "# import invertransforms as T\n",
    "\n",
    "# transform = T.Compose([\n",
    "#   T.RandomCrop(size=256),\n",
    "#   T.ToTensor(),\n",
    "# ])\n",
    "# img_tensor = transform(img)\n",
    "\n",
    "# # invert\n",
    "# img_again = transform.invert(img_tensor)"
   ]
  },
  {
   "cell_type": "markdown",
   "metadata": {},
   "source": [
    "Загрузим данные для обучения и валидации"
   ]
  },
  {
   "cell_type": "code",
   "execution_count": 14,
   "metadata": {
    "scrolled": true
   },
   "outputs": [
    {
     "name": "stderr",
     "output_type": "stream",
     "text": [
      "393931it [01:49, 3602.57it/s]  "
     ]
    },
    {
     "name": "stdout",
     "output_type": "stream",
     "text": [
      "Reading data took 187.582 sec.\n"
     ]
    },
    {
     "name": "stderr",
     "output_type": "stream",
     "text": [
      "\n"
     ]
    }
   ],
   "source": [
    "with Timer() as t:\n",
    "#     train_dataset = ThousandLandmarksDataset(os.path.join(data_dir, 'train'), train_transforms, split=\"train\")\n",
    "#     train_dataloader = data.DataLoader(\n",
    "#         train_dataset, batch_size=train_params['batch_size'], num_workers=4, \n",
    "#         pin_memory=True, shuffle=True, drop_last=True,\n",
    "#     )\n",
    "    val_dataset = ThousandLandmarksDataset(os.path.join(data_dir, 'train'), train_transforms, split=\"val\")\n",
    "    val_dataloader = data.DataLoader(\n",
    "        val_dataset, batch_size=train_params['batch_size'], num_workers=0, #num_workers=4, \n",
    "        pin_memory=True, shuffle=False, drop_last=False,\n",
    "    )\n",
    "print(f'Reading data took {t.interval:.03f} sec.')"
   ]
  },
  {
   "cell_type": "code",
   "execution_count": 68,
   "metadata": {},
   "outputs": [],
   "source": [
    "batch = next(iter(val_dataloader))\n",
    "images = batch[\"image\"]#.to(device)  # B x 3 x CROP_SIZE x CROP_SIZE\n",
    "landmarks = batch[\"landmarks\"]"
   ]
  },
  {
   "cell_type": "code",
   "execution_count": 86,
   "metadata": {
    "scrolled": false
   },
   "outputs": [
    {
     "data": {
      "image/png": "[encoded data removed]",
      "text/plain": [
       "<Figure size 1800x576 with 1 Axes>"
      ]
     },
     "metadata": {
      "needs_background": "light"
     },
     "output_type": "display_data"
    },
    {
     "name": "stdout",
     "output_type": "stream",
     "text": [
      "time: 384 ms\n"
     ]
    }
   ],
   "source": [
    "n_images = 1\n",
    "idxs = np.random.choice(images.shape[0], size=min(n_images, images.shape[0]), replace=False)\n",
    "fig = figure_landmark_examples(images=images[idxs], landmarks=landmarks[idxs])\n",
    "plt.show()"
   ]
  },
  {
   "cell_type": "markdown",
   "metadata": {},
   "source": [
    "## Эксперимент"
   ]
  },
  {
   "cell_type": "markdown",
   "metadata": {},
   "source": [
    "Зададим параметры эксперимента"
   ]
  },
  {
   "cell_type": "code",
   "execution_count": 9,
   "metadata": {},
   "outputs": [
    {
     "name": "stdout",
     "output_type": "stream",
     "text": [
      "Apr_26_2020_17:11:33__baseline_model=resnet18_bs=512_epochs=10_lr=0.01_lr_decay=0.7_w_decay=0.01\n"
     ]
    }
   ],
   "source": [
    "train_params.update({\n",
    "    'base_model': 'inception_v3',\n",
    "    'epochs': 10,\n",
    "    'lr': 1e-2,\n",
    "    'lr_decay': 0.7,\n",
    "    'weight_decay': 0.01,\n",
    "    'gpu': True,\n",
    "})\n",
    "exp_name = get_exp_name(train_params=train_params, name='baseline')\n",
    "print(exp_name)\n",
    "exp_dir = os.path.join(root_path, 'exp_dirs', exp_name)\n",
    "os.makedirs(exp_dir)"
   ]
  },
  {
   "cell_type": "markdown",
   "metadata": {},
   "source": [
    "TensorBoard writer"
   ]
  },
  {
   "cell_type": "code",
   "execution_count": 10,
   "metadata": {},
   "outputs": [],
   "source": [
    "writer = SummaryWriter(os.path.join(root_path, 'log_dir', exp_name))"
   ]
  },
  {
   "cell_type": "markdown",
   "metadata": {},
   "source": [
    "Создадим модель"
   ]
  },
  {
   "cell_type": "code",
   "execution_count": null,
   "metadata": {},
   "outputs": [],
   "source": [
    "del model"
   ]
  },
  {
   "cell_type": "code",
   "execution_count": null,
   "metadata": {},
   "outputs": [],
   "source": []
  },
  {
   "cell_type": "code",
   "execution_count": null,
   "metadata": {},
   "outputs": [],
   "source": [
    "optimizer.lr"
   ]
  },
  {
   "cell_type": "code",
   "execution_count": null,
   "metadata": {},
   "outputs": [],
   "source": []
  },
  {
   "cell_type": "code",
   "execution_count": null,
   "metadata": {},
   "outputs": [],
   "source": []
  },
  {
   "cell_type": "code",
   "execution_count": 11,
   "metadata": {},
   "outputs": [],
   "source": [
    "device = torch.device(\"cuda: 0\") if train_params['gpu'] else torch.device(\"cpu\")\n",
    "model = models.inception_v3(pretrained=True)\n",
    "model.fc = nn.Linear(model.fc.in_features, 2 * NUM_PTS, bias=True)\n",
    "model.to(device)\n",
    "\n",
    "optimizer = torch.optim.AdamW(\n",
    "    model.parameters(), \n",
    "    lr=train_params['lr'],\n",
    "    weight_decay=train_params['weight_decay'],\n",
    "    amsgrad=True,\n",
    ")\n",
    "scheduler = optim.lr_scheduler.ReduceLROnPlateau(\n",
    "    optimizer, 'min',\n",
    "    factor=train_params['lr_decay'], patience=50,\n",
    "    min_lr=1e-5,\n",
    ")\n",
    "loss_fn = fnn.mse_loss"
   ]
  },
  {
   "cell_type": "markdown",
   "metadata": {},
   "source": [
    "Обучим и провалидируем модель"
   ]
  },
  {
   "cell_type": "code",
   "execution_count": 12,
   "metadata": {
    "scrolled": true
   },
   "outputs": [
    {
     "data": {
      "application/vnd.jupyter.widget-view+json": {
       "model_id": "191df06e46834020aa1ec8edc6b62322",
       "version_major": 2,
       "version_minor": 0
      },
      "text/plain": [
       "HBox(children=(FloatProgress(value=0.0, description='training...', max=615.0, style=ProgressStyle(description_…"
      ]
     },
     "metadata": {},
     "output_type": "display_data"
    },
    {
     "name": "stdout",
     "output_type": "stream",
     "text": [
      "\n"
     ]
    },
    {
     "data": {
      "application/vnd.jupyter.widget-view+json": {
       "model_id": "c58d6e6bd7a344c8bce94d0e2d2a3a5b",
       "version_major": 2,
       "version_minor": 0
      },
      "text/plain": [
       "HBox(children=(FloatProgress(value=0.0, description='validation...', max=154.0, style=ProgressStyle(descriptio…"
      ]
     },
     "metadata": {},
     "output_type": "display_data"
    },
    {
     "name": "stdout",
     "output_type": "stream",
     "text": [
      "\n",
      "Epoch # 0:\ttrain loss: 2.3e+02\tval loss: 1.9e+01\n"
     ]
    },
    {
     "data": {
      "application/vnd.jupyter.widget-view+json": {
       "model_id": "ced024b4637e4340b1f3b6b136cd275e",
       "version_major": 2,
       "version_minor": 0
      },
      "text/plain": [
       "HBox(children=(FloatProgress(value=0.0, description='training...', max=615.0, style=ProgressStyle(description_…"
      ]
     },
     "metadata": {},
     "output_type": "display_data"
    },
    {
     "name": "stdout",
     "output_type": "stream",
     "text": [
      "\n"
     ]
    },
    {
     "data": {
      "application/vnd.jupyter.widget-view+json": {
       "model_id": "8160510c55394f7e82fcde39918a7e0f",
       "version_major": 2,
       "version_minor": 0
      },
      "text/plain": [
       "HBox(children=(FloatProgress(value=0.0, description='validation...', max=154.0, style=ProgressStyle(descriptio…"
      ]
     },
     "metadata": {},
     "output_type": "display_data"
    },
    {
     "name": "stdout",
     "output_type": "stream",
     "text": [
      "\n",
      "Epoch # 1:\ttrain loss: 1.4e+01\tval loss: 1.2e+01\n"
     ]
    },
    {
     "data": {
      "application/vnd.jupyter.widget-view+json": {
       "model_id": "28bd668c0b734061bf50b3aa97cb0a6d",
       "version_major": 2,
       "version_minor": 0
      },
      "text/plain": [
       "HBox(children=(FloatProgress(value=0.0, description='training...', max=615.0, style=ProgressStyle(description_…"
      ]
     },
     "metadata": {},
     "output_type": "display_data"
    },
    {
     "ename": "KeyboardInterrupt",
     "evalue": "",
     "output_type": "error",
     "traceback": [
      "\u001b[0;31m---------------------------------------------------------------------------\u001b[0m",
      "\u001b[0;31mKeyboardInterrupt\u001b[0m                         Traceback (most recent call last)",
      "\u001b[0;32m<ipython-input-12-0c2bb41153c4>\u001b[0m in \u001b[0;36m<module>\u001b[0;34m\u001b[0m\n\u001b[1;32m      3\u001b[0m     \u001b[0;32mfor\u001b[0m \u001b[0mepoch\u001b[0m \u001b[0;32min\u001b[0m \u001b[0mrange\u001b[0m\u001b[0;34m(\u001b[0m\u001b[0mtrain_params\u001b[0m\u001b[0;34m[\u001b[0m\u001b[0;34m'epochs'\u001b[0m\u001b[0;34m]\u001b[0m\u001b[0;34m)\u001b[0m\u001b[0;34m:\u001b[0m\u001b[0;34m\u001b[0m\u001b[0;34m\u001b[0m\u001b[0m\n\u001b[1;32m      4\u001b[0m         train_loss = train(model, train_dataloader, loss_fn, optimizer, \n\u001b[0;32m----> 5\u001b[0;31m                            device=device, epoch=epoch, writer=writer, scheduler=scheduler)\n\u001b[0m\u001b[1;32m      6\u001b[0m         \u001b[0mwriter\u001b[0m\u001b[0;34m.\u001b[0m\u001b[0madd_scalar\u001b[0m\u001b[0;34m(\u001b[0m\u001b[0;34m'train_loss'\u001b[0m\u001b[0;34m,\u001b[0m \u001b[0mtrain_loss\u001b[0m\u001b[0;34m,\u001b[0m \u001b[0mepoch\u001b[0m\u001b[0;34m)\u001b[0m\u001b[0;34m\u001b[0m\u001b[0;34m\u001b[0m\u001b[0m\n\u001b[1;32m      7\u001b[0m \u001b[0;34m\u001b[0m\u001b[0m\n",
      "\u001b[0;32m<ipython-input-2-3e1bb30c6a69>\u001b[0m in \u001b[0;36mtrain\u001b[0;34m(model, loader, loss_fn, optimizer, device, epoch, writer, scheduler)\u001b[0m\n\u001b[1;32m      4\u001b[0m     \u001b[0mloader_len\u001b[0m \u001b[0;34m=\u001b[0m \u001b[0mlen\u001b[0m\u001b[0;34m(\u001b[0m\u001b[0mloader\u001b[0m\u001b[0;34m)\u001b[0m\u001b[0;34m\u001b[0m\u001b[0;34m\u001b[0m\u001b[0m\n\u001b[1;32m      5\u001b[0m     \u001b[0;32mfor\u001b[0m \u001b[0mi\u001b[0m\u001b[0;34m,\u001b[0m \u001b[0mbatch\u001b[0m \u001b[0;32min\u001b[0m \u001b[0mtqdm\u001b[0m\u001b[0;34m(\u001b[0m\u001b[0menumerate\u001b[0m\u001b[0;34m(\u001b[0m\u001b[0mloader\u001b[0m\u001b[0;34m)\u001b[0m\u001b[0;34m,\u001b[0m \u001b[0mtotal\u001b[0m\u001b[0;34m=\u001b[0m\u001b[0mloader_len\u001b[0m\u001b[0;34m,\u001b[0m \u001b[0mdesc\u001b[0m\u001b[0;34m=\u001b[0m\u001b[0;34m\"training...\"\u001b[0m\u001b[0;34m)\u001b[0m\u001b[0;34m:\u001b[0m\u001b[0;34m\u001b[0m\u001b[0;34m\u001b[0m\u001b[0m\n\u001b[0;32m----> 6\u001b[0;31m         \u001b[0mimages\u001b[0m \u001b[0;34m=\u001b[0m \u001b[0mbatch\u001b[0m\u001b[0;34m[\u001b[0m\u001b[0;34m\"image\"\u001b[0m\u001b[0;34m]\u001b[0m\u001b[0;34m.\u001b[0m\u001b[0mto\u001b[0m\u001b[0;34m(\u001b[0m\u001b[0mdevice\u001b[0m\u001b[0;34m)\u001b[0m  \u001b[0;31m# B x 3 x CROP_SIZE x CROP_SIZE\u001b[0m\u001b[0;34m\u001b[0m\u001b[0;34m\u001b[0m\u001b[0m\n\u001b[0m\u001b[1;32m      7\u001b[0m         \u001b[0mlandmarks\u001b[0m \u001b[0;34m=\u001b[0m \u001b[0mbatch\u001b[0m\u001b[0;34m[\u001b[0m\u001b[0;34m\"landmarks\"\u001b[0m\u001b[0;34m]\u001b[0m  \u001b[0;31m# B x (2 * NUM_PTS)\u001b[0m\u001b[0;34m\u001b[0m\u001b[0;34m\u001b[0m\u001b[0m\n\u001b[1;32m      8\u001b[0m \u001b[0;34m\u001b[0m\u001b[0m\n",
      "\u001b[0;31mKeyboardInterrupt\u001b[0m: "
     ]
    }
   ],
   "source": [
    "with Timer() as t:\n",
    "    best_val_loss = np.inf\n",
    "    for epoch in range(train_params['epochs']):\n",
    "        train_loss = train(model, train_dataloader, loss_fn, optimizer, \n",
    "                           device=device, epoch=epoch, writer=writer, scheduler=scheduler)\n",
    "        writer.add_scalar('train_loss', train_loss, epoch)\n",
    "        \n",
    "        val_loss = validate(model, val_dataloader, loss_fn, device=device)\n",
    "        writer.add_scalar('val_loss', val_loss, epoch)\n",
    "        \n",
    "        print(f\"Epoch #{epoch:2}:\\ttrain loss: {train_loss:5.2}\\tval loss: {val_loss:5.2}\")\n",
    "        if val_loss < best_val_loss:\n",
    "            best_val_loss = val_loss\n",
    "            with open(os.path.join(exp_dir, \"best_model.pth\"), \"wb\") as fp:\n",
    "                torch.save(model.state_dict(), fp)\n",
    "\n",
    "print(f'Training model took {t.interval:.03f} sec.')"
   ]
  },
  {
   "cell_type": "markdown",
   "metadata": {},
   "source": [
    "# Предсказание"
   ]
  },
  {
   "cell_type": "markdown",
   "metadata": {},
   "source": [
    "Загрузим тестовые данные"
   ]
  },
  {
   "cell_type": "code",
   "execution_count": 14,
   "metadata": {},
   "outputs": [
    {
     "name": "stderr",
     "output_type": "stream",
     "text": [
      "\n",
      "\n",
      "0it [00:00, ?it/s]\u001b[A\u001b[A\n",
      "\n",
      "45629it [00:00, 456276.29it/s]\u001b[A\u001b[A\n",
      "\n",
      "99820it [00:00, 455697.18it/s]\u001b[A\u001b[A"
     ]
    },
    {
     "name": "stdout",
     "output_type": "stream",
     "text": [
      "Reading data took 0.250 sec.\n"
     ]
    },
    {
     "name": "stderr",
     "output_type": "stream",
     "text": [
      "\n"
     ]
    }
   ],
   "source": [
    "with Timer() as t:\n",
    "    test_dataset = ThousandLandmarksDataset(os.path.join(data_dir, 'test'), train_transforms, split=\"test\")\n",
    "    test_dataloader = data.DataLoader(\n",
    "        test_dataset, batch_size=train_params['batch_size'], num_workers=4, \n",
    "        pin_memory=True, shuffle=False, drop_last=False,\n",
    "    )\n",
    "print(f'Reading data took {t.interval:.03f} sec.')"
   ]
  },
  {
   "cell_type": "code",
   "execution_count": 15,
   "metadata": {},
   "outputs": [
    {
     "data": {
      "application/vnd.jupyter.widget-view+json": {
       "model_id": "e4c0e43c7ebf4ccfabc72573ceeef630",
       "version_major": 2,
       "version_minor": 0
      },
      "text/plain": [
       "HBox(children=(FloatProgress(value=0.0, description='test prediction...', max=195.0, style=ProgressStyle(descr…"
      ]
     },
     "metadata": {},
     "output_type": "display_data"
    },
    {
     "name": "stdout",
     "output_type": "stream",
     "text": [
      "\n",
      "Test prediction took 308.658 sec.\n"
     ]
    }
   ],
   "source": [
    "with Timer() as t:\n",
    "    with open(os.path.join(exp_dir, \"best_model.pth\"), \"rb\") as fp:\n",
    "        best_state_dict = torch.load(fp, map_location=\"cpu\")\n",
    "        model.load_state_dict(best_state_dict)\n",
    "\n",
    "    test_predictions = predict(model, test_dataloader, device)\n",
    "    with open(os.path.join(exp_dir, \"test_predictions.pkl\"), \"wb\") as fp:\n",
    "        pickle.dump({\n",
    "                \"image_names\": test_dataset.image_names,\n",
    "                \"landmarks\": test_predictions\n",
    "            }, \n",
    "            fp,\n",
    "        )\n",
    "\n",
    "    create_submission(data_dir, test_predictions, os.path.join(exp_dir, \"submit.csv\"))\n",
    "print(f'Test prediction took {t.interval:.03f} sec.')"
   ]
  },
  {
   "cell_type": "code",
   "execution_count": null,
   "metadata": {},
   "outputs": [],
   "source": []
  },
  {
   "cell_type": "code",
   "execution_count": null,
   "metadata": {},
   "outputs": [],
   "source": []
  }
 ],
 "metadata": {
  "kernelspec": {
   "display_name": "Python 3",
   "language": "python",
   "name": "python3"
  },
  "language_info": {
   "codemirror_mode": {
    "name": "ipython",
    "version": 3
   },
   "file_extension": ".py",
   "mimetype": "text/x-python",
   "name": "python",
   "nbconvert_exporter": "python",
   "pygments_lexer": "ipython3",
   "version": "3.7.4"
  }
 },
 "nbformat": 4,
 "nbformat_minor": 4
}
